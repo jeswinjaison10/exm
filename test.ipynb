{
  "nbformat": 4,
  "nbformat_minor": 0,
  "metadata": {
    "colab": {
      "provenance": [],
      "toc_visible": true
    },
    "kernelspec": {
      "name": "python3",
      "display_name": "Python 3"
    },
    "language_info": {
      "name": "python"
    }
  },
  "cells": [
    {
      "cell_type": "code",
      "source": [
        "# Import necessary libraries\n",
        "import tensorflow as tf\n",
        "from tensorflow.keras.models import Sequential\n",
        "from tensorflow.keras.layers import Conv2D, MaxPooling2D, Flatten, Dense, Dropout\n",
        "import matplotlib.pyplot as plt\n",
        "import pandas as pd\n",
        "import numpy as np\n",
        "from sklearn.model_selection import train_test_split\n",
        "from tensorflow.keras.utils import to_categorical\n",
        "\n",
        "# Load the dataset from the CSV file\n",
        "data = pd.read_csv('/apples_and_oranges.csv')  # Replace with the path to your CSV file\n",
        "print(data.head())  # Display the first few rows of the dataset\n",
        "\n",
        "print(data['Weight'].unique())\n",
        "print(data['Size'].unique())\n",
        "\n",
        "# Assuming 'data' is a DataFrame containing the dataset\n",
        "X = data[['Weight', 'Size']].apply(pd.to_numeric, errors='coerce')  # Numerical features, handle errors\n",
        "y = data['Class']  # Categorical labels (strings)\n",
        "\n",
        "# Step 1: Load images and labels\n",
        "images = data['Class']  # Use the appropriate column for images\n",
        "labels = data['Size']   # Use the appropriate column for labels\n",
        "\n",
        "\n",
        "\n",
        "# Step 1: Load images and labels\n",
        "images = ['Class']\n",
        "labels = ['Size']\n",
        "\n",
        "for index, row in data.iterrows():\n",
        "    # Load each image using its path\n",
        "    img = tf.keras.preprocessing.image.load_img(row['Class'], target_size=(64, 64))  # Resize to 64x64\n",
        "    img_array = tf.keras.preprocessing.image.img_to_array(img)  # Convert to a NumPy array\n",
        "    images.append(img_array)\n",
        "    labels.append(row['Size'])  # Assume 'Class' contains labels like 'apple' or 'orange'\n",
        "\n",
        "# Convert images and labels to NumPy arrays\n",
        "images = np.array(images)\n",
        "labels = np.array(labels)\n",
        "\n",
        "# Normalize image data (scale pixel values between 0 and 1)\n",
        "images = images / 255.0\n",
        "\n",
        "# Encode labels (e.g., \"apple\" -> 0, \"orange\" -> 1)\n",
        "label_mapping = {label: idx for idx, label in enumerate(np.unique(labels))}\n",
        "labels = np.array([label_mapping[label] for label in labels])\n",
        "\n",
        "# Step 2: Split the data into training and testing sets\n",
        "x_train, x_test, y_train, y_test = train_test_split(images, labels, test_size=0.2, random_state=42)\n",
        "\n",
        "# One-hot encode labels\n",
        "y_train = to_categorical(y_train, num_classes=len(label_mapping))\n",
        "y_test = to_categorical(y_test, num_classes=len(label_mapping))\n",
        "\n",
        "# Step 3: Build the model\n",
        "model = Sequential([\n",
        "    Conv2D(32, (3, 3), activation='relu', input_shape=(64, 64, 3)),\n",
        "    MaxPooling2D(pool_size=(2, 2)),\n",
        "    Conv2D(64, (3, 3), activation='relu'),\n",
        "    MaxPooling2D(pool_size=(2, 2)),\n",
        "    Flatten(),\n",
        "    Dense(128, activation='relu'),\n",
        "    Dropout(0.5),\n",
        "    Dense(len(label_mapping), activation='softmax')  # Multi-class classification\n",
        "])\n",
        "\n",
        "# Compile the model\n",
        "model.compile(optimizer='adam', loss='categorical_crossentropy', metrics=['accuracy'])\n",
        "\n",
        "# Step 4: Train the model\n",
        "history = model.fit(x_train, y_train, validation_data=(x_test, y_test), epochs=10)\n",
        "\n",
        "# Step 5: Evaluate the model\n",
        "loss, accuracy = model.evaluate(x_test, y_test)\n",
        "print(f\"Test Accuracy: {accuracy}\")\n",
        "\n",
        "# Step 6: Predict and display test images\n",
        "for i in range(5):  # Predicting on 5 test images\n",
        "    plt.imshow(x_test[i])\n",
        "    plt.show()\n",
        "    prediction = model.predict(np.expand_dims(x_test[i], axis=0))\n",
        "    predicted_label = list(label_mapping.keys())[np.argmax(prediction)]\n",
        "    print(f\"Prediction: {predicted_label}\")\n",
        "\n",
        "# Save the trained model\n",
        "model.save('apple_orange_classifier.h5')\n",
        "print(\"Model saved as 'apple_orange_classifier.h5'\")\n"
      ],
      "metadata": {
        "colab": {
          "base_uri": "https://localhost:8080/",
          "height": 575
        },
        "id": "jprpO2sEKVJG",
        "outputId": "a5c08bda-bd37-4a98-cd63-86ae536c81f1"
      },
      "execution_count": 25,
      "outputs": [
        {
          "output_type": "stream",
          "name": "stdout",
          "text": [
            "  Weight  Size   Class\n",
            "0     69  4.39  orange\n",
            "1     69  4.21  orange\n",
            "2     65  4.09  orange\n",
            "3     72  5.85   apple\n",
            "4     67   4.7  orange\n",
            "['69' '65' '72' '67' '73' '70' '75' '74' '68' '66' '71' 'Weight']\n",
            "['4.39' '4.21' '4.09' '5.85' '4.7' '5.68' '5.56' '5.11' '5.36' '4.27'\n",
            " '5.79' '5.47' '5.53' '4.47' '5.22' '4.48' '4.66' '5.25' '4.18' '5.5'\n",
            " '4.13' '4.83' '4.61' '4.08' '4.25' '5.35' '4.01' '4.22' '5.26' '5.78'\n",
            " '4.68' '5.72' '5.17' '4.11' '4.76' '5.48' '5.59' '5.03' 'Size']\n"
          ]
        },
        {
          "output_type": "error",
          "ename": "FileNotFoundError",
          "evalue": "[Errno 2] No such file or directory: 'orange'",
          "traceback": [
            "\u001b[0;31m---------------------------------------------------------------------------\u001b[0m",
            "\u001b[0;31mFileNotFoundError\u001b[0m                         Traceback (most recent call last)",
            "\u001b[0;32m<ipython-input-25-78cf42a91d63>\u001b[0m in \u001b[0;36m<cell line: 0>\u001b[0;34m()\u001b[0m\n\u001b[1;32m     32\u001b[0m \u001b[0;32mfor\u001b[0m \u001b[0mindex\u001b[0m\u001b[0;34m,\u001b[0m \u001b[0mrow\u001b[0m \u001b[0;32min\u001b[0m \u001b[0mdata\u001b[0m\u001b[0;34m.\u001b[0m\u001b[0miterrows\u001b[0m\u001b[0;34m(\u001b[0m\u001b[0;34m)\u001b[0m\u001b[0;34m:\u001b[0m\u001b[0;34m\u001b[0m\u001b[0;34m\u001b[0m\u001b[0m\n\u001b[1;32m     33\u001b[0m     \u001b[0;31m# Load each image using its path\u001b[0m\u001b[0;34m\u001b[0m\u001b[0;34m\u001b[0m\u001b[0m\n\u001b[0;32m---> 34\u001b[0;31m     \u001b[0mimg\u001b[0m \u001b[0;34m=\u001b[0m \u001b[0mtf\u001b[0m\u001b[0;34m.\u001b[0m\u001b[0mkeras\u001b[0m\u001b[0;34m.\u001b[0m\u001b[0mpreprocessing\u001b[0m\u001b[0;34m.\u001b[0m\u001b[0mimage\u001b[0m\u001b[0;34m.\u001b[0m\u001b[0mload_img\u001b[0m\u001b[0;34m(\u001b[0m\u001b[0mrow\u001b[0m\u001b[0;34m[\u001b[0m\u001b[0;34m'Class'\u001b[0m\u001b[0;34m]\u001b[0m\u001b[0;34m,\u001b[0m \u001b[0mtarget_size\u001b[0m\u001b[0;34m=\u001b[0m\u001b[0;34m(\u001b[0m\u001b[0;36m64\u001b[0m\u001b[0;34m,\u001b[0m \u001b[0;36m64\u001b[0m\u001b[0;34m)\u001b[0m\u001b[0;34m)\u001b[0m  \u001b[0;31m# Resize to 64x64\u001b[0m\u001b[0;34m\u001b[0m\u001b[0;34m\u001b[0m\u001b[0m\n\u001b[0m\u001b[1;32m     35\u001b[0m     \u001b[0mimg_array\u001b[0m \u001b[0;34m=\u001b[0m \u001b[0mtf\u001b[0m\u001b[0;34m.\u001b[0m\u001b[0mkeras\u001b[0m\u001b[0;34m.\u001b[0m\u001b[0mpreprocessing\u001b[0m\u001b[0;34m.\u001b[0m\u001b[0mimage\u001b[0m\u001b[0;34m.\u001b[0m\u001b[0mimg_to_array\u001b[0m\u001b[0;34m(\u001b[0m\u001b[0mimg\u001b[0m\u001b[0;34m)\u001b[0m  \u001b[0;31m# Convert to a NumPy array\u001b[0m\u001b[0;34m\u001b[0m\u001b[0;34m\u001b[0m\u001b[0m\n\u001b[1;32m     36\u001b[0m     \u001b[0mimages\u001b[0m\u001b[0;34m.\u001b[0m\u001b[0mappend\u001b[0m\u001b[0;34m(\u001b[0m\u001b[0mimg_array\u001b[0m\u001b[0;34m)\u001b[0m\u001b[0;34m\u001b[0m\u001b[0;34m\u001b[0m\u001b[0m\n",
            "\u001b[0;32m/usr/local/lib/python3.11/dist-packages/keras/src/utils/image_utils.py\u001b[0m in \u001b[0;36mload_img\u001b[0;34m(path, color_mode, target_size, interpolation, keep_aspect_ratio)\u001b[0m\n\u001b[1;32m    233\u001b[0m         \u001b[0;32mif\u001b[0m \u001b[0misinstance\u001b[0m\u001b[0;34m(\u001b[0m\u001b[0mpath\u001b[0m\u001b[0;34m,\u001b[0m \u001b[0mpathlib\u001b[0m\u001b[0;34m.\u001b[0m\u001b[0mPath\u001b[0m\u001b[0;34m)\u001b[0m\u001b[0;34m:\u001b[0m\u001b[0;34m\u001b[0m\u001b[0;34m\u001b[0m\u001b[0m\n\u001b[1;32m    234\u001b[0m             \u001b[0mpath\u001b[0m \u001b[0;34m=\u001b[0m \u001b[0mstr\u001b[0m\u001b[0;34m(\u001b[0m\u001b[0mpath\u001b[0m\u001b[0;34m.\u001b[0m\u001b[0mresolve\u001b[0m\u001b[0;34m(\u001b[0m\u001b[0;34m)\u001b[0m\u001b[0;34m)\u001b[0m\u001b[0;34m\u001b[0m\u001b[0;34m\u001b[0m\u001b[0m\n\u001b[0;32m--> 235\u001b[0;31m         \u001b[0;32mwith\u001b[0m \u001b[0mopen\u001b[0m\u001b[0;34m(\u001b[0m\u001b[0mpath\u001b[0m\u001b[0;34m,\u001b[0m \u001b[0;34m\"rb\"\u001b[0m\u001b[0;34m)\u001b[0m \u001b[0;32mas\u001b[0m \u001b[0mf\u001b[0m\u001b[0;34m:\u001b[0m\u001b[0;34m\u001b[0m\u001b[0;34m\u001b[0m\u001b[0m\n\u001b[0m\u001b[1;32m    236\u001b[0m             \u001b[0mimg\u001b[0m \u001b[0;34m=\u001b[0m \u001b[0mpil_image\u001b[0m\u001b[0;34m.\u001b[0m\u001b[0mopen\u001b[0m\u001b[0;34m(\u001b[0m\u001b[0mio\u001b[0m\u001b[0;34m.\u001b[0m\u001b[0mBytesIO\u001b[0m\u001b[0;34m(\u001b[0m\u001b[0mf\u001b[0m\u001b[0;34m.\u001b[0m\u001b[0mread\u001b[0m\u001b[0;34m(\u001b[0m\u001b[0;34m)\u001b[0m\u001b[0;34m)\u001b[0m\u001b[0;34m)\u001b[0m\u001b[0;34m\u001b[0m\u001b[0;34m\u001b[0m\u001b[0m\n\u001b[1;32m    237\u001b[0m     \u001b[0;32melse\u001b[0m\u001b[0;34m:\u001b[0m\u001b[0;34m\u001b[0m\u001b[0;34m\u001b[0m\u001b[0m\n",
            "\u001b[0;31mFileNotFoundError\u001b[0m: [Errno 2] No such file or directory: 'orange'"
          ]
        }
      ]
    },
    {
      "cell_type": "code",
      "source": [
        "print(data['Class'])\n"
      ],
      "metadata": {
        "colab": {
          "base_uri": "https://localhost:8080/"
        },
        "id": "alhGnJCAkgnM",
        "outputId": "22159624-9f58-4fdc-9a97-08754a7d4d8b"
      },
      "execution_count": 26,
      "outputs": [
        {
          "output_type": "stream",
          "name": "stdout",
          "text": [
            "0      orange\n",
            "1      orange\n",
            "2      orange\n",
            "3       apple\n",
            "4      orange\n",
            "        ...  \n",
            "117    orange\n",
            "118    orange\n",
            "119     apple\n",
            "120     apple\n",
            "121     apple\n",
            "Name: Class, Length: 122, dtype: object\n"
          ]
        }
      ]
    },
    {
      "cell_type": "code",
      "source": [
        "base_path = \"/apples_and_oranges.csv\"  # Replace with your actual directory\n",
        "data['Class'] = data['Class'].apply(lambda x: f\"{base_path}{x}\")\n"
      ],
      "metadata": {
        "id": "YFrxQDw1kj5j"
      },
      "execution_count": 27,
      "outputs": []
    },
    {
      "cell_type": "code",
      "source": [
        "import os\n",
        "\n",
        "for index, row in data.iterrows():\n",
        "    file_path = row['Class']\n",
        "    if os.path.exists(file_path):\n",
        "        img = tf.keras.preprocessing.image.load_img(file_path, target_size=(64, 64))\n",
        "        img_array = tf.keras.preprocessing.image.img_to_array(img)\n",
        "        images.append(img_array)\n",
        "    else:\n",
        "        print(f\"File not found: {file_path}\")\n"
      ],
      "metadata": {
        "colab": {
          "base_uri": "https://localhost:8080/"
        },
        "id": "d59VclJ_k3X9",
        "outputId": "d6aca4eb-1500-4f8d-9481-f666f136d00a"
      },
      "execution_count": 28,
      "outputs": [
        {
          "output_type": "stream",
          "name": "stdout",
          "text": [
            "File not found: /apples_and_oranges.csvorange\n",
            "File not found: /apples_and_oranges.csvorange\n",
            "File not found: /apples_and_oranges.csvorange\n",
            "File not found: /apples_and_oranges.csvapple\n",
            "File not found: /apples_and_oranges.csvorange\n",
            "File not found: /apples_and_oranges.csvapple\n",
            "File not found: /apples_and_oranges.csvapple\n",
            "File not found: /apples_and_oranges.csvapple\n",
            "File not found: /apples_and_oranges.csvapple\n",
            "File not found: /apples_and_oranges.csvorange\n",
            "File not found: /apples_and_oranges.csvapple\n",
            "File not found: /apples_and_oranges.csvapple\n",
            "File not found: /apples_and_oranges.csvapple\n",
            "File not found: /apples_and_oranges.csvorange\n",
            "File not found: /apples_and_oranges.csvapple\n",
            "File not found: /apples_and_oranges.csvorange\n",
            "File not found: /apples_and_oranges.csvorange\n",
            "File not found: /apples_and_oranges.csvapple\n",
            "File not found: /apples_and_oranges.csvorange\n",
            "File not found: /apples_and_oranges.csvapple\n",
            "File not found: /apples_and_oranges.csvorange\n",
            "File not found: /apples_and_oranges.csvorange\n",
            "File not found: /apples_and_oranges.csvorange\n",
            "File not found: /apples_and_oranges.csvorange\n",
            "File not found: /apples_and_oranges.csvorange\n",
            "File not found: /apples_and_oranges.csvapple\n",
            "File not found: /apples_and_oranges.csvorange\n",
            "File not found: /apples_and_oranges.csvorange\n",
            "File not found: /apples_and_oranges.csvapple\n",
            "File not found: /apples_and_oranges.csvapple\n",
            "File not found: /apples_and_oranges.csvapple\n",
            "File not found: /apples_and_oranges.csvorange\n",
            "File not found: /apples_and_oranges.csvapple\n",
            "File not found: /apples_and_oranges.csvapple\n",
            "File not found: /apples_and_oranges.csvorange\n",
            "File not found: /apples_and_oranges.csvorange\n",
            "File not found: /apples_and_oranges.csvorange\n",
            "File not found: /apples_and_oranges.csvapple\n",
            "File not found: /apples_and_oranges.csvapple\n",
            "File not found: /apples_and_oranges.csvapple\n",
            "File not found: /apples_and_oranges.csvClass\n",
            "File not found: /apples_and_oranges.csvorange\n",
            "File not found: /apples_and_oranges.csvorange\n",
            "File not found: /apples_and_oranges.csvorange\n",
            "File not found: /apples_and_oranges.csvapple\n",
            "File not found: /apples_and_oranges.csvorange\n",
            "File not found: /apples_and_oranges.csvapple\n",
            "File not found: /apples_and_oranges.csvapple\n",
            "File not found: /apples_and_oranges.csvapple\n",
            "File not found: /apples_and_oranges.csvapple\n",
            "File not found: /apples_and_oranges.csvorange\n",
            "File not found: /apples_and_oranges.csvapple\n",
            "File not found: /apples_and_oranges.csvapple\n",
            "File not found: /apples_and_oranges.csvapple\n",
            "File not found: /apples_and_oranges.csvorange\n",
            "File not found: /apples_and_oranges.csvapple\n",
            "File not found: /apples_and_oranges.csvorange\n",
            "File not found: /apples_and_oranges.csvorange\n",
            "File not found: /apples_and_oranges.csvapple\n",
            "File not found: /apples_and_oranges.csvorange\n",
            "File not found: /apples_and_oranges.csvapple\n",
            "File not found: /apples_and_oranges.csvorange\n",
            "File not found: /apples_and_oranges.csvorange\n",
            "File not found: /apples_and_oranges.csvorange\n",
            "File not found: /apples_and_oranges.csvorange\n",
            "File not found: /apples_and_oranges.csvorange\n",
            "File not found: /apples_and_oranges.csvapple\n",
            "File not found: /apples_and_oranges.csvorange\n",
            "File not found: /apples_and_oranges.csvorange\n",
            "File not found: /apples_and_oranges.csvapple\n",
            "File not found: /apples_and_oranges.csvapple\n",
            "File not found: /apples_and_oranges.csvapple\n",
            "File not found: /apples_and_oranges.csvorange\n",
            "File not found: /apples_and_oranges.csvapple\n",
            "File not found: /apples_and_oranges.csvapple\n",
            "File not found: /apples_and_oranges.csvorange\n",
            "File not found: /apples_and_oranges.csvorange\n",
            "File not found: /apples_and_oranges.csvorange\n",
            "File not found: /apples_and_oranges.csvapple\n",
            "File not found: /apples_and_oranges.csvapple\n",
            "File not found: /apples_and_oranges.csvapple\n",
            "File not found: /apples_and_oranges.csvClass\n",
            "File not found: /apples_and_oranges.csvorange\n",
            "File not found: /apples_and_oranges.csvorange\n",
            "File not found: /apples_and_oranges.csvorange\n",
            "File not found: /apples_and_oranges.csvapple\n",
            "File not found: /apples_and_oranges.csvorange\n",
            "File not found: /apples_and_oranges.csvapple\n",
            "File not found: /apples_and_oranges.csvapple\n",
            "File not found: /apples_and_oranges.csvapple\n",
            "File not found: /apples_and_oranges.csvapple\n",
            "File not found: /apples_and_oranges.csvorange\n",
            "File not found: /apples_and_oranges.csvapple\n",
            "File not found: /apples_and_oranges.csvapple\n",
            "File not found: /apples_and_oranges.csvapple\n",
            "File not found: /apples_and_oranges.csvorange\n",
            "File not found: /apples_and_oranges.csvapple\n",
            "File not found: /apples_and_oranges.csvorange\n",
            "File not found: /apples_and_oranges.csvorange\n",
            "File not found: /apples_and_oranges.csvapple\n",
            "File not found: /apples_and_oranges.csvorange\n",
            "File not found: /apples_and_oranges.csvapple\n",
            "File not found: /apples_and_oranges.csvorange\n",
            "File not found: /apples_and_oranges.csvorange\n",
            "File not found: /apples_and_oranges.csvorange\n",
            "File not found: /apples_and_oranges.csvorange\n",
            "File not found: /apples_and_oranges.csvorange\n",
            "File not found: /apples_and_oranges.csvapple\n",
            "File not found: /apples_and_oranges.csvorange\n",
            "File not found: /apples_and_oranges.csvorange\n",
            "File not found: /apples_and_oranges.csvapple\n",
            "File not found: /apples_and_oranges.csvapple\n",
            "File not found: /apples_and_oranges.csvapple\n",
            "File not found: /apples_and_oranges.csvorange\n",
            "File not found: /apples_and_oranges.csvapple\n",
            "File not found: /apples_and_oranges.csvapple\n",
            "File not found: /apples_and_oranges.csvorange\n",
            "File not found: /apples_and_oranges.csvorange\n",
            "File not found: /apples_and_oranges.csvorange\n",
            "File not found: /apples_and_oranges.csvapple\n",
            "File not found: /apples_and_oranges.csvapple\n",
            "File not found: /apples_and_oranges.csvapple\n"
          ]
        }
      ]
    },
    {
      "cell_type": "code",
      "source": [
        "images = ['Class']\n",
        "labels = ['Size']\n"
      ],
      "metadata": {
        "id": "Ddka8UVmZJ1i"
      },
      "execution_count": 30,
      "outputs": []
    },
    {
      "cell_type": "code",
      "source": [
        "images = []\n",
        "labels = []\n"
      ],
      "metadata": {
        "id": "-KpFTELymOjQ"
      },
      "execution_count": 31,
      "outputs": []
    },
    {
      "cell_type": "code",
      "source": [
        "base_path = \"/apples_and_oranges.csv\"  # Replace with the correct directory\n",
        "data['Class'] = data['Class'].apply(lambda x: f\"{base_path}{x}\")\n"
      ],
      "metadata": {
        "id": "CJcSktKjmSNf"
      },
      "execution_count": 32,
      "outputs": []
    },
    {
      "cell_type": "code",
      "source": [
        "labels.append(row['Size'])\n"
      ],
      "metadata": {
        "id": "jTQYxTdOmX_3"
      },
      "execution_count": 33,
      "outputs": []
    },
    {
      "cell_type": "code",
      "source": [
        "print(data.columns)  # List of column names\n",
        "print(data.index)    # Index information\n",
        "print(data.head())   # Sample data\n"
      ],
      "metadata": {
        "colab": {
          "base_uri": "https://localhost:8080/"
        },
        "id": "-JE6z8tnma1G",
        "outputId": "d6ad3f71-08b3-4fc0-aa75-20f1d48097b6"
      },
      "execution_count": 35,
      "outputs": [
        {
          "output_type": "stream",
          "name": "stdout",
          "text": [
            "Index(['Weight', 'Size', 'Class'], dtype='object')\n",
            "RangeIndex(start=0, stop=122, step=1)\n",
            "  Weight  Size                                              Class\n",
            "0     69  4.39  /apples_and_oranges.csv/apples_and_oranges.csv...\n",
            "1     69  4.21  /apples_and_oranges.csv/apples_and_oranges.csv...\n",
            "2     65  4.09  /apples_and_oranges.csv/apples_and_oranges.csv...\n",
            "3     72  5.85  /apples_and_oranges.csv/apples_and_oranges.csv...\n",
            "4     67   4.7  /apples_and_oranges.csv/apples_and_oranges.csv...\n"
          ]
        }
      ]
    },
    {
      "cell_type": "code",
      "source": [
        "row = data.iloc[0]  # Access the first row\n",
        "print(row)\n"
      ],
      "metadata": {
        "colab": {
          "base_uri": "https://localhost:8080/"
        },
        "id": "Kh-LvXvbmdMO",
        "outputId": "874f4c41-8671-4c36-9c0b-7a9e11e495b5"
      },
      "execution_count": 36,
      "outputs": [
        {
          "output_type": "stream",
          "name": "stdout",
          "text": [
            "Weight                                                   69\n",
            "Size                                                   4.39\n",
            "Class     /apples_and_oranges.csv/apples_and_oranges.csv...\n",
            "Name: 0, dtype: object\n"
          ]
        }
      ]
    },
    {
      "cell_type": "code",
      "source": [
        "if 'Class' in data.columns:\n",
        "    print(data['Class'])\n",
        "else:\n",
        "    print(\"'Class' column not found\")\n"
      ],
      "metadata": {
        "colab": {
          "base_uri": "https://localhost:8080/"
        },
        "id": "_dah0jC4mtGe",
        "outputId": "c6f32d9c-ca9b-4043-fc44-5a184c0386df"
      },
      "execution_count": 37,
      "outputs": [
        {
          "output_type": "stream",
          "name": "stdout",
          "text": [
            "0      /apples_and_oranges.csv/apples_and_oranges.csv...\n",
            "1      /apples_and_oranges.csv/apples_and_oranges.csv...\n",
            "2      /apples_and_oranges.csv/apples_and_oranges.csv...\n",
            "3      /apples_and_oranges.csv/apples_and_oranges.csv...\n",
            "4      /apples_and_oranges.csv/apples_and_oranges.csv...\n",
            "                             ...                        \n",
            "117    /apples_and_oranges.csv/apples_and_oranges.csv...\n",
            "118    /apples_and_oranges.csv/apples_and_oranges.csv...\n",
            "119    /apples_and_oranges.csv/apples_and_oranges.csv...\n",
            "120    /apples_and_oranges.csv/apples_and_oranges.csv...\n",
            "121    /apples_and_oranges.csv/apples_and_oranges.csv...\n",
            "Name: Class, Length: 122, dtype: object\n"
          ]
        }
      ]
    },
    {
      "cell_type": "code",
      "source": [
        "data.dropna(subset=['Class', 'Size'], inplace=True)  # Drop rows with NaN in key columns\n"
      ],
      "metadata": {
        "id": "W0sh3o3EmvFW"
      },
      "execution_count": 38,
      "outputs": []
    },
    {
      "cell_type": "code",
      "source": [
        "print(data['Class'].head())  # Display a few entries from the 'Class' column\n"
      ],
      "metadata": {
        "colab": {
          "base_uri": "https://localhost:8080/"
        },
        "id": "9bp2MV2Wmy2u",
        "outputId": "4cb4952c-b78b-435a-fc0f-8e3a75ddbb73"
      },
      "execution_count": 40,
      "outputs": [
        {
          "output_type": "stream",
          "name": "stdout",
          "text": [
            "0    /apples_and_oranges.csv/apples_and_oranges.csv...\n",
            "1    /apples_and_oranges.csv/apples_and_oranges.csv...\n",
            "2    /apples_and_oranges.csv/apples_and_oranges.csv...\n",
            "3    /apples_and_oranges.csv/apples_and_oranges.csv...\n",
            "4    /apples_and_oranges.csv/apples_and_oranges.csv...\n",
            "Name: Class, dtype: object\n"
          ]
        }
      ]
    },
    {
      "cell_type": "code",
      "source": [
        "base_path = \"/apples_and_oranges.csv\"  # Replace with the actual directory containing images\n",
        "data['Class'] = data['Class'].apply(lambda x: os.path.join(base_path, x))\n"
      ],
      "metadata": {
        "id": "v0CQCTlsm9B_"
      },
      "execution_count": 41,
      "outputs": []
    },
    {
      "cell_type": "code",
      "source": [
        "import os\n",
        "\n",
        "missing_files = [path for path in data['Class'] if not os.path.exists(path)]\n",
        "if missing_files:\n",
        "    print(f\"Missing Files: {missing_files}\")\n",
        "else:\n",
        "    print(\"All image paths are valid.\")\n"
      ],
      "metadata": {
        "colab": {
          "base_uri": "https://localhost:8080/"
        },
        "id": "1vIEQGDlnBFG",
        "outputId": "da510ad1-d9ba-4074-a48c-524feda1c0e8"
      },
      "execution_count": 42,
      "outputs": [
        {
          "output_type": "stream",
          "name": "stdout",
          "text": [
            "Missing Files: ['/apples_and_oranges.csv/apples_and_oranges.csvorange', '/apples_and_oranges.csv/apples_and_oranges.csvorange', '/apples_and_oranges.csv/apples_and_oranges.csvorange', '/apples_and_oranges.csv/apples_and_oranges.csvapple', '/apples_and_oranges.csv/apples_and_oranges.csvorange', '/apples_and_oranges.csv/apples_and_oranges.csvapple', '/apples_and_oranges.csv/apples_and_oranges.csvapple', '/apples_and_oranges.csv/apples_and_oranges.csvapple', '/apples_and_oranges.csv/apples_and_oranges.csvapple', '/apples_and_oranges.csv/apples_and_oranges.csvorange', '/apples_and_oranges.csv/apples_and_oranges.csvapple', '/apples_and_oranges.csv/apples_and_oranges.csvapple', '/apples_and_oranges.csv/apples_and_oranges.csvapple', '/apples_and_oranges.csv/apples_and_oranges.csvorange', '/apples_and_oranges.csv/apples_and_oranges.csvapple', '/apples_and_oranges.csv/apples_and_oranges.csvorange', '/apples_and_oranges.csv/apples_and_oranges.csvorange', '/apples_and_oranges.csv/apples_and_oranges.csvapple', '/apples_and_oranges.csv/apples_and_oranges.csvorange', '/apples_and_oranges.csv/apples_and_oranges.csvapple', '/apples_and_oranges.csv/apples_and_oranges.csvorange', '/apples_and_oranges.csv/apples_and_oranges.csvorange', '/apples_and_oranges.csv/apples_and_oranges.csvorange', '/apples_and_oranges.csv/apples_and_oranges.csvorange', '/apples_and_oranges.csv/apples_and_oranges.csvorange', '/apples_and_oranges.csv/apples_and_oranges.csvapple', '/apples_and_oranges.csv/apples_and_oranges.csvorange', '/apples_and_oranges.csv/apples_and_oranges.csvorange', '/apples_and_oranges.csv/apples_and_oranges.csvapple', '/apples_and_oranges.csv/apples_and_oranges.csvapple', '/apples_and_oranges.csv/apples_and_oranges.csvapple', '/apples_and_oranges.csv/apples_and_oranges.csvorange', '/apples_and_oranges.csv/apples_and_oranges.csvapple', '/apples_and_oranges.csv/apples_and_oranges.csvapple', '/apples_and_oranges.csv/apples_and_oranges.csvorange', '/apples_and_oranges.csv/apples_and_oranges.csvorange', '/apples_and_oranges.csv/apples_and_oranges.csvorange', '/apples_and_oranges.csv/apples_and_oranges.csvapple', '/apples_and_oranges.csv/apples_and_oranges.csvapple', '/apples_and_oranges.csv/apples_and_oranges.csvapple', '/apples_and_oranges.csv/apples_and_oranges.csvClass', '/apples_and_oranges.csv/apples_and_oranges.csvorange', '/apples_and_oranges.csv/apples_and_oranges.csvorange', '/apples_and_oranges.csv/apples_and_oranges.csvorange', '/apples_and_oranges.csv/apples_and_oranges.csvapple', '/apples_and_oranges.csv/apples_and_oranges.csvorange', '/apples_and_oranges.csv/apples_and_oranges.csvapple', '/apples_and_oranges.csv/apples_and_oranges.csvapple', '/apples_and_oranges.csv/apples_and_oranges.csvapple', '/apples_and_oranges.csv/apples_and_oranges.csvapple', '/apples_and_oranges.csv/apples_and_oranges.csvorange', '/apples_and_oranges.csv/apples_and_oranges.csvapple', '/apples_and_oranges.csv/apples_and_oranges.csvapple', '/apples_and_oranges.csv/apples_and_oranges.csvapple', '/apples_and_oranges.csv/apples_and_oranges.csvorange', '/apples_and_oranges.csv/apples_and_oranges.csvapple', '/apples_and_oranges.csv/apples_and_oranges.csvorange', '/apples_and_oranges.csv/apples_and_oranges.csvorange', '/apples_and_oranges.csv/apples_and_oranges.csvapple', '/apples_and_oranges.csv/apples_and_oranges.csvorange', '/apples_and_oranges.csv/apples_and_oranges.csvapple', '/apples_and_oranges.csv/apples_and_oranges.csvorange', '/apples_and_oranges.csv/apples_and_oranges.csvorange', '/apples_and_oranges.csv/apples_and_oranges.csvorange', '/apples_and_oranges.csv/apples_and_oranges.csvorange', '/apples_and_oranges.csv/apples_and_oranges.csvorange', '/apples_and_oranges.csv/apples_and_oranges.csvapple', '/apples_and_oranges.csv/apples_and_oranges.csvorange', '/apples_and_oranges.csv/apples_and_oranges.csvorange', '/apples_and_oranges.csv/apples_and_oranges.csvapple', '/apples_and_oranges.csv/apples_and_oranges.csvapple', '/apples_and_oranges.csv/apples_and_oranges.csvapple', '/apples_and_oranges.csv/apples_and_oranges.csvorange', '/apples_and_oranges.csv/apples_and_oranges.csvapple', '/apples_and_oranges.csv/apples_and_oranges.csvapple', '/apples_and_oranges.csv/apples_and_oranges.csvorange', '/apples_and_oranges.csv/apples_and_oranges.csvorange', '/apples_and_oranges.csv/apples_and_oranges.csvorange', '/apples_and_oranges.csv/apples_and_oranges.csvapple', '/apples_and_oranges.csv/apples_and_oranges.csvapple', '/apples_and_oranges.csv/apples_and_oranges.csvapple', '/apples_and_oranges.csv/apples_and_oranges.csvClass', '/apples_and_oranges.csv/apples_and_oranges.csvorange', '/apples_and_oranges.csv/apples_and_oranges.csvorange', '/apples_and_oranges.csv/apples_and_oranges.csvorange', '/apples_and_oranges.csv/apples_and_oranges.csvapple', '/apples_and_oranges.csv/apples_and_oranges.csvorange', '/apples_and_oranges.csv/apples_and_oranges.csvapple', '/apples_and_oranges.csv/apples_and_oranges.csvapple', '/apples_and_oranges.csv/apples_and_oranges.csvapple', '/apples_and_oranges.csv/apples_and_oranges.csvapple', '/apples_and_oranges.csv/apples_and_oranges.csvorange', '/apples_and_oranges.csv/apples_and_oranges.csvapple', '/apples_and_oranges.csv/apples_and_oranges.csvapple', '/apples_and_oranges.csv/apples_and_oranges.csvapple', '/apples_and_oranges.csv/apples_and_oranges.csvorange', '/apples_and_oranges.csv/apples_and_oranges.csvapple', '/apples_and_oranges.csv/apples_and_oranges.csvorange', '/apples_and_oranges.csv/apples_and_oranges.csvorange', '/apples_and_oranges.csv/apples_and_oranges.csvapple', '/apples_and_oranges.csv/apples_and_oranges.csvorange', '/apples_and_oranges.csv/apples_and_oranges.csvapple', '/apples_and_oranges.csv/apples_and_oranges.csvorange', '/apples_and_oranges.csv/apples_and_oranges.csvorange', '/apples_and_oranges.csv/apples_and_oranges.csvorange', '/apples_and_oranges.csv/apples_and_oranges.csvorange', '/apples_and_oranges.csv/apples_and_oranges.csvorange', '/apples_and_oranges.csv/apples_and_oranges.csvapple', '/apples_and_oranges.csv/apples_and_oranges.csvorange', '/apples_and_oranges.csv/apples_and_oranges.csvorange', '/apples_and_oranges.csv/apples_and_oranges.csvapple', '/apples_and_oranges.csv/apples_and_oranges.csvapple', '/apples_and_oranges.csv/apples_and_oranges.csvapple', '/apples_and_oranges.csv/apples_and_oranges.csvorange', '/apples_and_oranges.csv/apples_and_oranges.csvapple', '/apples_and_oranges.csv/apples_and_oranges.csvapple', '/apples_and_oranges.csv/apples_and_oranges.csvorange', '/apples_and_oranges.csv/apples_and_oranges.csvorange', '/apples_and_oranges.csv/apples_and_oranges.csvorange', '/apples_and_oranges.csv/apples_and_oranges.csvapple', '/apples_and_oranges.csv/apples_and_oranges.csvapple', '/apples_and_oranges.csv/apples_and_oranges.csvapple']\n"
          ]
        }
      ]
    },
    {
      "cell_type": "code",
      "source": [
        "images = []\n",
        "labels = []\n",
        "\n",
        "for index, row in data.iterrows():\n",
        "    try:\n",
        "        img = tf.keras.preprocessing.image.load_img(row['Class'], target_size=(64, 64))\n",
        "        img_array = tf.keras.preprocessing.image.img_to_array(img)\n",
        "        images.append(img_array)\n",
        "        labels.append(row['Size'])\n",
        "    except FileNotFoundError:\n",
        "        print(f\"File not found: {row['Class']} - Skipping this image.\")\n"
      ],
      "metadata": {
        "colab": {
          "base_uri": "https://localhost:8080/",
          "height": 384
        },
        "id": "o_H8DH7PnEUF",
        "outputId": "2ebf7d86-ce00-421c-d682-e67dfb5433ae"
      },
      "execution_count": 44,
      "outputs": [
        {
          "output_type": "error",
          "ename": "NotADirectoryError",
          "evalue": "[Errno 20] Not a directory: '/apples_and_oranges.csv/apples_and_oranges.csvorange'",
          "traceback": [
            "\u001b[0;31m---------------------------------------------------------------------------\u001b[0m",
            "\u001b[0;31mNotADirectoryError\u001b[0m                        Traceback (most recent call last)",
            "\u001b[0;32m<ipython-input-44-69f6b082115e>\u001b[0m in \u001b[0;36m<cell line: 0>\u001b[0;34m()\u001b[0m\n\u001b[1;32m      4\u001b[0m \u001b[0;32mfor\u001b[0m \u001b[0mindex\u001b[0m\u001b[0;34m,\u001b[0m \u001b[0mrow\u001b[0m \u001b[0;32min\u001b[0m \u001b[0mdata\u001b[0m\u001b[0;34m.\u001b[0m\u001b[0miterrows\u001b[0m\u001b[0;34m(\u001b[0m\u001b[0;34m)\u001b[0m\u001b[0;34m:\u001b[0m\u001b[0;34m\u001b[0m\u001b[0;34m\u001b[0m\u001b[0m\n\u001b[1;32m      5\u001b[0m     \u001b[0;32mtry\u001b[0m\u001b[0;34m:\u001b[0m\u001b[0;34m\u001b[0m\u001b[0;34m\u001b[0m\u001b[0m\n\u001b[0;32m----> 6\u001b[0;31m         \u001b[0mimg\u001b[0m \u001b[0;34m=\u001b[0m \u001b[0mtf\u001b[0m\u001b[0;34m.\u001b[0m\u001b[0mkeras\u001b[0m\u001b[0;34m.\u001b[0m\u001b[0mpreprocessing\u001b[0m\u001b[0;34m.\u001b[0m\u001b[0mimage\u001b[0m\u001b[0;34m.\u001b[0m\u001b[0mload_img\u001b[0m\u001b[0;34m(\u001b[0m\u001b[0mrow\u001b[0m\u001b[0;34m[\u001b[0m\u001b[0;34m'Class'\u001b[0m\u001b[0;34m]\u001b[0m\u001b[0;34m,\u001b[0m \u001b[0mtarget_size\u001b[0m\u001b[0;34m=\u001b[0m\u001b[0;34m(\u001b[0m\u001b[0;36m64\u001b[0m\u001b[0;34m,\u001b[0m \u001b[0;36m64\u001b[0m\u001b[0;34m)\u001b[0m\u001b[0;34m)\u001b[0m\u001b[0;34m\u001b[0m\u001b[0;34m\u001b[0m\u001b[0m\n\u001b[0m\u001b[1;32m      7\u001b[0m         \u001b[0mimg_array\u001b[0m \u001b[0;34m=\u001b[0m \u001b[0mtf\u001b[0m\u001b[0;34m.\u001b[0m\u001b[0mkeras\u001b[0m\u001b[0;34m.\u001b[0m\u001b[0mpreprocessing\u001b[0m\u001b[0;34m.\u001b[0m\u001b[0mimage\u001b[0m\u001b[0;34m.\u001b[0m\u001b[0mimg_to_array\u001b[0m\u001b[0;34m(\u001b[0m\u001b[0mimg\u001b[0m\u001b[0;34m)\u001b[0m\u001b[0;34m\u001b[0m\u001b[0;34m\u001b[0m\u001b[0m\n\u001b[1;32m      8\u001b[0m         \u001b[0mimages\u001b[0m\u001b[0;34m.\u001b[0m\u001b[0mappend\u001b[0m\u001b[0;34m(\u001b[0m\u001b[0mimg_array\u001b[0m\u001b[0;34m)\u001b[0m\u001b[0;34m\u001b[0m\u001b[0;34m\u001b[0m\u001b[0m\n",
            "\u001b[0;32m/usr/local/lib/python3.11/dist-packages/keras/src/utils/image_utils.py\u001b[0m in \u001b[0;36mload_img\u001b[0;34m(path, color_mode, target_size, interpolation, keep_aspect_ratio)\u001b[0m\n\u001b[1;32m    233\u001b[0m         \u001b[0;32mif\u001b[0m \u001b[0misinstance\u001b[0m\u001b[0;34m(\u001b[0m\u001b[0mpath\u001b[0m\u001b[0;34m,\u001b[0m \u001b[0mpathlib\u001b[0m\u001b[0;34m.\u001b[0m\u001b[0mPath\u001b[0m\u001b[0;34m)\u001b[0m\u001b[0;34m:\u001b[0m\u001b[0;34m\u001b[0m\u001b[0;34m\u001b[0m\u001b[0m\n\u001b[1;32m    234\u001b[0m             \u001b[0mpath\u001b[0m \u001b[0;34m=\u001b[0m \u001b[0mstr\u001b[0m\u001b[0;34m(\u001b[0m\u001b[0mpath\u001b[0m\u001b[0;34m.\u001b[0m\u001b[0mresolve\u001b[0m\u001b[0;34m(\u001b[0m\u001b[0;34m)\u001b[0m\u001b[0;34m)\u001b[0m\u001b[0;34m\u001b[0m\u001b[0;34m\u001b[0m\u001b[0m\n\u001b[0;32m--> 235\u001b[0;31m         \u001b[0;32mwith\u001b[0m \u001b[0mopen\u001b[0m\u001b[0;34m(\u001b[0m\u001b[0mpath\u001b[0m\u001b[0;34m,\u001b[0m \u001b[0;34m\"rb\"\u001b[0m\u001b[0;34m)\u001b[0m \u001b[0;32mas\u001b[0m \u001b[0mf\u001b[0m\u001b[0;34m:\u001b[0m\u001b[0;34m\u001b[0m\u001b[0;34m\u001b[0m\u001b[0m\n\u001b[0m\u001b[1;32m    236\u001b[0m             \u001b[0mimg\u001b[0m \u001b[0;34m=\u001b[0m \u001b[0mpil_image\u001b[0m\u001b[0;34m.\u001b[0m\u001b[0mopen\u001b[0m\u001b[0;34m(\u001b[0m\u001b[0mio\u001b[0m\u001b[0;34m.\u001b[0m\u001b[0mBytesIO\u001b[0m\u001b[0;34m(\u001b[0m\u001b[0mf\u001b[0m\u001b[0;34m.\u001b[0m\u001b[0mread\u001b[0m\u001b[0;34m(\u001b[0m\u001b[0;34m)\u001b[0m\u001b[0;34m)\u001b[0m\u001b[0;34m)\u001b[0m\u001b[0;34m\u001b[0m\u001b[0;34m\u001b[0m\u001b[0m\n\u001b[1;32m    237\u001b[0m     \u001b[0;32melse\u001b[0m\u001b[0;34m:\u001b[0m\u001b[0;34m\u001b[0m\u001b[0;34m\u001b[0m\u001b[0m\n",
            "\u001b[0;31mNotADirectoryError\u001b[0m: [Errno 20] Not a directory: '/apples_and_oranges.csv/apples_and_oranges.csvorange'"
          ]
        }
      ]
    },
    {
      "cell_type": "code",
      "source": [],
      "metadata": {
        "id": "uApWdkpcnLL-"
      },
      "execution_count": null,
      "outputs": []
    }
  ]
}